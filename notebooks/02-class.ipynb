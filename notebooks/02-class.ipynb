{
 "cells": [
  {
   "cell_type": "markdown",
   "metadata": {},
   "source": [
    "# Class 02\n",
    "\n",
    "Hyperparams:\n",
    "\n",
    "- waypoints, closest_waypoints\n",
    "- progress\n",
    "- steps\n",
    "- is_left_of_center"
   ]
  },
  {
   "cell_type": "code",
   "execution_count": 13,
   "metadata": {},
   "outputs": [],
   "source": [
    "section_1 = list(range(14, 23, 1))\n",
    "section_2 = list(range(27, 31, 1))\n",
    "section_3 = list(range(34, 38, 1))\n",
    "section_4 = list(range(41, 44, 1))\n",
    "section_5 = list(range(51, 54, 1))\n",
    "\n",
    "region_1 = list(range(23, 27, 1))\n",
    "region_2 = list(range(31, 34, 1))\n",
    "\n",
    "def reward_function(params):\n",
    "  reward = 1\n",
    "  HIGH_SPEED_THRESHOLD = 2\n",
    "  LOW_SPEED_THRESHOLD = 1\n",
    "\n",
    "  future_waypoint = params['closest_waypoints'][1]\n",
    "  speed = params['speed']\n",
    "  is_left_of_center = params['is_left_of_center']\n",
    "  \n",
    "  distance_from_center = params['distance_from_center']\n",
    "  track_width = params['track_width']\n",
    "  \n",
    "  progress = params['progress']\n",
    "  steps = params['steps']\n",
    "\n",
    "  marker_1 = 0.1 * track_width\n",
    "  marker_2 = 0.25 * track_width\n",
    "\n",
    "  if future_waypoint in section_1:\n",
    "    if is_left_of_center:\n",
    "      if speed < LOW_SPEED_THRESHOLD:\n",
    "        reward += 2\n",
    "  elif future_waypoint in (section_2 or region_2):\n",
    "    if distance_from_center < marker_1 and distance_from_center > marker_2:\n",
    "      if speed > HIGH_SPEED_THRESHOLD:\n",
    "        reward += 2\n",
    "  else:\n",
    "    if is_left_of_center is False:\n",
    "      if future_waypoint in (section_3 or section_4 or section_5):\n",
    "        if speed < LOW_SPEED_THRESHOLD:\n",
    "          reward += 2\n",
    "      else:\n",
    "        if speed > HIGH_SPEED_THRESHOLD:\n",
    "          reward += 2\n",
    "          \n",
    "  reward = reward*(1 + (progress/100))        \n",
    "           \n",
    "  return float(reward)"
   ]
  }
 ],
 "metadata": {
  "kernelspec": {
   "display_name": "ml",
   "language": "python",
   "name": "python3"
  },
  "language_info": {
   "codemirror_mode": {
    "name": "ipython",
    "version": 3
   },
   "file_extension": ".py",
   "mimetype": "text/x-python",
   "name": "python",
   "nbconvert_exporter": "python",
   "pygments_lexer": "ipython3",
   "version": "3.10.13"
  }
 },
 "nbformat": 4,
 "nbformat_minor": 2
}
