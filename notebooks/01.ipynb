{
  "nbformat": 4,
  "nbformat_minor": 0,
  "metadata": {
    "colab": {
      "provenance": []
    },
    "kernelspec": {
      "name": "python3",
      "display_name": "Python 3"
    },
    "language_info": {
      "name": "python"
    }
  },
  "cells": [
    {
      "cell_type": "markdown",
      "source": [
        "# Class 01: Writing the firts code with fundamental parameters"
      ],
      "metadata": {
        "id": "8K2jJXkN7fn3"
      }
    },
    {
      "cell_type": "markdown",
      "source": [
        "## Where to found the parameters?\n",
        "[deep-racer-documentation: reward function parameters](https://docs.aws.amazon.com/pt_br/deepracer/latest/developerguide/deepracer-reward-function-input.html)"
      ],
      "metadata": {
        "id": "gZmalSr-8EuW"
      }
    },
    {
      "cell_type": "markdown",
      "source": [
        "### 1. Fundamental Parameters"
      ],
      "metadata": {
        "id": "TS7orkXVMDJl"
      }
    },
    {
      "cell_type": "code",
      "source": [
        "\"distance_from_center\": float,         # distance in meters from the track center\n",
        "\"speed\": float,                        # agent's speed in meters per second (m/s)\n",
        "\"all_wheels_on_track\": Boolean,        # flag to indicate if the agent is on the track\n",
        "\"is_offtrack\": Boolean,                # Boolean flag to indicate whether the agent has gone off track.\n",
        "\"track_length\": float,                 # track length in meters.\n",
        "\"track_width\": float,                  # width of the track"
      ],
      "metadata": {
        "id": "sWyHsfkN-Bo3"
      },
      "execution_count": null,
      "outputs": []
    },
    {
      "cell_type": "markdown",
      "source": [
        "### 2. Using the parameters to code"
      ],
      "metadata": {
        "id": "5b-S21LbMIj-"
      }
    },
    {
      "cell_type": "code",
      "source": [
        "def reward_function(params):\n",
        "  reward = 1\n",
        "\n",
        "  # Read input parameters\n",
        "  distance_from_center = params['distance_from_center']\n",
        "  speed = params['speed']\n",
        "  all_wheels_on_track = params['all_wheels_on_track']\n",
        "  is_offtrack = params['is_offtrack']\n",
        "  track_width = params['track_width']\n",
        "\n",
        "  SPEED_THRESHOULD = 2\n",
        "\n",
        "  # Calculate 3 markers that are at varying distances away from the center line\n",
        "  marker_1 = 0.1 * track_width\n",
        "  marker_2 = 0.25 * track_width\n",
        "  marker_3 = 0.5 * track_width\n",
        "\n",
        "  # Give higher reward if the car is closer to center line and vice versa\n",
        "  if all_wheels_on_track:\n",
        "    reward += 0.5\n",
        "  else:\n",
        "    if is_offtrack:\n",
        "      reward = 1e-3\n",
        "    else:\n",
        "      reward += 1.5\n",
        "\n",
        "  if distance_from_center <= marker_1:\n",
        "    if speed >= SPEED_THRESHOULD:\n",
        "      reward += 1\n",
        "    else:\n",
        "      reward += 0.8\n",
        "  elif distance_from_center <= marker_2:\n",
        "    if speed >= SPEED_THRESHOULD:\n",
        "      reward += 0.5\n",
        "    else:\n",
        "      reward += 0.3\n",
        "  elif distance_from_center <= marker_3:\n",
        "    if speed >= SPEED_THRESHOULD:\n",
        "      reward += 0.1\n",
        "    else:\n",
        "      reward += 0.05\n",
        "\n",
        "  return float(reward)"
      ],
      "metadata": {
        "id": "Go5dVzmh9CeF"
      },
      "execution_count": null,
      "outputs": []
    }
  ]
}